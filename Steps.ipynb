{
 "cells": [
  {
   "cell_type": "markdown",
   "metadata": {},
   "source": [
    "### Install Ollama\n",
    "https://ollama.com/\n",
    "\n",
    "Download llama3 - ollama run llama3:instruct"
   ]
  },
  {
   "cell_type": "markdown",
   "metadata": {},
   "source": [
    "### Install and setup Flask\n",
    "!pip install -q flask\n",
    "\n",
    "    Create file called app.py\n",
    "\n",
    "from flask import Flask\n",
    "\n",
    "\n",
    "    Create app\n",
    "app = Flask(__name__)\n",
    "\n",
    "    Create end points - routes\n",
    "@app.route(\"/\")\n",
    "def index():\n",
    "    return \"Hello World\"\n",
    "\n",
    "\n",
    "if __name__ == \"__main__\":\n",
    "    app.run(host=\"0.0.0.0\", port=8080, debug=True)"
   ]
  },
  {
   "cell_type": "markdown",
   "metadata": {},
   "source": []
  }
 ],
 "metadata": {
  "language_info": {
   "name": "python"
  }
 },
 "nbformat": 4,
 "nbformat_minor": 2
}
